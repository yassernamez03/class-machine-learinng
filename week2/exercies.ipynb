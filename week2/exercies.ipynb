{
 "cells": [
  {
   "cell_type": "code",
   "execution_count": 9,
   "id": "d9324233",
   "metadata": {},
   "outputs": [
    {
     "data": {
      "text/plain": [
       "<matplotlib.collections.PathCollection at 0x2f2690ddb80>"
      ]
     },
     "execution_count": 9,
     "metadata": {},
     "output_type": "execute_result"
    },
    {
     "data": {
      "image/png": "[encoded data removed]",
      "text/plain": [
       "<Figure size 432x288 with 1 Axes>"
      ]
     },
     "metadata": {
      "needs_background": "light"
     },
     "output_type": "display_data"
    }
   ],
   "source": [
    "import pandas as pd\n",
    "import matplotlib.pyplot as plt\n",
    "import numpy as np\n",
    "data = {\n",
    "    'temp':[20,22,18,7,7,11,17,15],\n",
    "    'alt':[10,15,60,100,120,90,78,12]\n",
    "}\n",
    "df = pd.DataFrame(data)\n",
    "df.corr()\n",
    "plt.scatter(df['alt'],df['temp'],color='r')"
   ]
  },
  {
   "cell_type": "code",
   "execution_count": 59,
   "id": "df0a3d17",
   "metadata": {},
   "outputs": [
    {
     "name": "stdout",
     "output_type": "stream",
     "text": [
      "6.265969159653537\n"
     ]
    }
   ],
   "source": [
    "x=df['temp']\n",
    "y=df['alt']\n",
    "Jh=[]\n",
    "a = -10\n",
    "b = 2\n",
    "alpha=0.002\n",
    "m = df['temp'].count()\n",
    "for i in range(100):\n",
    "    yh = a*x+b\n",
    "    E = y-yh\n",
    "    J = E.dot(E)/x.shape[0]\n",
    "    dJa = -x.dot(E)/m\n",
    "    dJb = - np.sum(E/m)\n",
    "    a = a - alpha*dJa\n",
    "    b = b - alpha*dJb\n",
    "    Jh.append(J)\n",
    "print(b)\n"
   ]
  },
  {
   "cell_type": "code",
   "execution_count": 60,
   "id": "72c51cea",
   "metadata": {},
   "outputs": [
    {
     "name": "stdout",
     "output_type": "stream",
     "text": [
      "[ 6.26596916  9.88797396 13.50997876 17.13198356 20.75398836 24.37599316\n",
      " 27.99799796 31.62000276]\n"
     ]
    },
    {
     "data": {
      "image/png": "[encoded data removed]",
      "text/plain": [
       "<Figure size 432x288 with 1 Axes>"
      ]
     },
     "metadata": {
      "needs_background": "light"
     },
     "output_type": "display_data"
    }
   ],
   "source": [
    "plt.scatter(df['alt'],df['temp'],color='r')\n",
    "y = lambda x:a*x+b\n",
    "xs = np.linspace(0,10,8)\n",
    "plt.plot(xs,y(xs))\n",
    "print(y(xs))"
   ]
  }
 ],
 "metadata": {
  "kernelspec": {
   "display_name": "Python 3 (ipykernel)",
   "language": "python",
   "name": "python3"
  },
  "language_info": {
   "codemirror_mode": {
    "name": "ipython",
    "version": 3
   },
   "file_extension": ".py",
   "mimetype": "text/x-python",
   "name": "python",
   "nbconvert_exporter": "python",
   "pygments_lexer": "ipython3",
   "version": "3.9.7"
  }
 },
 "nbformat": 4,
 "nbformat_minor": 5
}

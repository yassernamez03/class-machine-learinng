{
 "cells": [
  {
   "cell_type": "code",
   "execution_count": 17,
   "id": "fd7a008e",
   "metadata": {},
   "outputs": [],
   "source": [
    "import numpy as np"
   ]
  },
  {
   "cell_type": "code",
   "execution_count": 18,
   "id": "8e11d9e8",
   "metadata": {},
   "outputs": [
    {
     "name": "stdout",
     "output_type": "stream",
     "text": [
      "[1 2 3 4 5 6 7]\n",
      "[[1 3 5]\n",
      " [7 2 5]\n",
      " [4 3 5]]\n"
     ]
    }
   ],
   "source": [
    "nad = np.array([1,2,3,4,5,6,7])\n",
    "crow = np.array([[1,3,5],[7,2,5],[4,3,5]])\n",
    "print(nad)\n",
    "print(crow)"
   ]
  },
  {
   "cell_type": "code",
   "execution_count": 19,
   "id": "06ef0ba8",
   "metadata": {},
   "outputs": [
    {
     "name": "stdout",
     "output_type": "stream",
     "text": [
      "[1 2 2 4 5 6 7]\n"
     ]
    },
    {
     "data": {
      "text/plain": [
       "1"
      ]
     },
     "execution_count": 19,
     "metadata": {},
     "output_type": "execute_result"
    }
   ],
   "source": [
    "nad[2] = 2\n",
    "print(nad)\n",
    "nad.ndim"
   ]
  },
  {
   "cell_type": "code",
   "execution_count": 20,
   "id": "60343e6a",
   "metadata": {},
   "outputs": [
    {
     "ename": "NameError",
     "evalue": "name 'arr' is not defined",
     "output_type": "error",
     "traceback": [
      "\u001b[0;31m---------------------------------------------------------------------------\u001b[0m",
      "\u001b[0;31mNameError\u001b[0m                                 Traceback (most recent call last)",
      "\u001b[0;32m/tmp/ipykernel_2784/1887279600.py\u001b[0m in \u001b[0;36m<module>\u001b[0;34m\u001b[0m\n\u001b[0;32m----> 1\u001b[0;31m \u001b[0mprint\u001b[0m\u001b[0;34m(\u001b[0m\u001b[0marr\u001b[0m\u001b[0;34m[\u001b[0m\u001b[0;36m8\u001b[0m\u001b[0;34m:\u001b[0m\u001b[0;36m1\u001b[0m\u001b[0;34m:\u001b[0m\u001b[0;34m-\u001b[0m\u001b[0;36m2\u001b[0m\u001b[0;34m]\u001b[0m\u001b[0;34m)\u001b[0m\u001b[0;34m\u001b[0m\u001b[0;34m\u001b[0m\u001b[0m\n\u001b[0m",
      "\u001b[0;31mNameError\u001b[0m: name 'arr' is not defined"
     ]
    }
   ],
   "source": [
    "print(arr[8:1:-2])"
   ]
  },
  {
   "cell_type": "code",
   "execution_count": 21,
   "id": "4eb11658",
   "metadata": {},
   "outputs": [
    {
     "name": "stdout",
     "output_type": "stream",
     "text": [
      "[[5]\n",
      " [5]\n",
      " [5]]\n"
     ]
    }
   ],
   "source": [
    "print(crow[0:3,2:3])"
   ]
  },
  {
   "cell_type": "code",
   "execution_count": 24,
   "id": "3859d325",
   "metadata": {},
   "outputs": [
    {
     "name": "stdout",
     "output_type": "stream",
     "text": [
      "[3 5]\n"
     ]
    }
   ],
   "source": [
    "print(crow[2,-2:])"
   ]
  },
  {
   "cell_type": "code",
   "execution_count": null,
   "id": "f549596b",
   "metadata": {},
   "outputs": [],
   "source": [
    "print(crow[0:3,1::-1])"
   ]
  },
  {
   "cell_type": "code",
   "execution_count": 23,
   "id": "998b3151",
   "metadata": {},
   "outputs": [
    {
     "name": "stdout",
     "output_type": "stream",
     "text": [
      "[[ 7  8  6]\n",
      " [12 11 10]]\n"
     ]
    }
   ],
   "source": [
    "arr = np.array([[1,2,3,4],[5,6,8,7],[9,10,11,12]])\n",
    "print(arr[1:3 ,:0:-1])"
   ]
  },
  {
   "cell_type": "code",
   "execution_count": 25,
   "id": "3d0bf7cc",
   "metadata": {},
   "outputs": [],
   "source": [
    "void  = arr.copy()\n",
    "dcop = void.view()\n",
    "deca = arr[::]"
   ]
  },
  {
   "cell_type": "code",
   "execution_count": 26,
   "id": "f399d20a",
   "metadata": {},
   "outputs": [
    {
     "name": "stdout",
     "output_type": "stream",
     "text": [
      "[[ 1  2  3  4]\n",
      " [ 5  6  8  7]\n",
      " [ 9 10 11 12]]\n",
      "[[ 1  2  3  4]\n",
      " [ 5  6  8  7]\n",
      " [ 9 10 11 12]]\n",
      "[[ 1  2  3  4]\n",
      " [ 5  6  8  7]\n",
      " [ 9 10 11 12]]\n",
      "[[ 1  2  3  4]\n",
      " [ 5  6  8  7]\n",
      " [ 9 10 11 12]]\n"
     ]
    }
   ],
   "source": [
    "print(arr)\n",
    "print(void)\n",
    "print(dcop)\n",
    "print(deca)"
   ]
  },
  {
   "cell_type": "code",
   "execution_count": 27,
   "id": "6b91151e",
   "metadata": {},
   "outputs": [],
   "source": [
    "deca[2,2] =11"
   ]
  },
  {
   "cell_type": "code",
   "execution_count": 28,
   "id": "4008166e",
   "metadata": {},
   "outputs": [],
   "source": [
    "void.view()[2,2] = 33"
   ]
  },
  {
   "cell_type": "code",
   "execution_count": 15,
   "id": "cfa96d47",
   "metadata": {},
   "outputs": [],
   "source": [
    "spar = np.array([[[1,2],[3,4]],[[5,6],[7,8]],[[9,10],[11,12]]])\n",
    "flop = np.array([[[1,2],[3,4],[5,6]],[[7,8],[9,10],[11,12]]])\n",
    "dgb = np.array([[[[1,2],[3,4]],[[5,6],[7,8]],\n",
    "    [[9,10],[11,12]]],[[[13,14],[15,16]],[[17,18],[19,20]],[[21,22],[23,24]]]])\n",
    "\n",
    "mato = spar.reshape(12,1,1)"
   ]
  },
  {
   "cell_type": "code",
   "execution_count": 29,
   "id": "92231098",
   "metadata": {},
   "outputs": [
    {
     "data": {
      "text/plain": [
       "(2, 3, 2)"
      ]
     },
     "execution_count": 29,
     "metadata": {},
     "output_type": "execute_result"
    }
   ],
   "source": [
    "23, 2spar.ndim\n",
    "spar.shape\n",
    "flop.ndim\n",
    "flop.shape"
   ]
  },
  {
   "cell_type": "code",
   "execution_count": 52,
   "id": "96ff863a",
   "metadata": {
    "scrolled": true
   },
   "outputs": [
    {
     "name": "stdout",
     "output_type": "stream",
     "text": [
      "[[[[ 1  2]\n",
      "   [ 3  4]]\n",
      "\n",
      "  [[ 5  6]\n",
      "   [ 7  8]]\n",
      "\n",
      "  [[ 9 10]\n",
      "   [11 12]]]\n",
      "\n",
      "\n",
      " [[[13 14]\n",
      "   [15 16]]\n",
      "\n",
      "  [[17 18]\n",
      "   [19 20]]\n",
      "\n",
      "  [[21 22]\n",
      "   [23 24]]]]\n"
     ]
    }
   ],
   "source": [
    "dgb.shape\n",
    "print(dgb)"
   ]
  },
  {
   "cell_type": "code",
   "execution_count": 55,
   "id": "cb6bf3e0",
   "metadata": {},
   "outputs": [
    {
     "data": {
      "text/plain": [
       "array([[24, 23],\n",
       "       [22, 21],\n",
       "       [20, 19],\n",
       "       [18, 17],\n",
       "       [16, 15],\n",
       "       [14, 13],\n",
       "       [12, 11],\n",
       "       [10,  9],\n",
       "       [ 8,  7],\n",
       "       [ 6,  5],\n",
       "       [ 4,  3],\n",
       "       [ 2,  1]])"
      ]
     },
     "execution_count": 55,
     "metadata": {},
     "output_type": "execute_result"
    }
   ],
   "source": [
    " You ignored an opportunity to win material.\n",
    "call = dgb.reshape(12,2)[::-1,::-1]\n",
    "call"
   ]
  },
  {
   "cell_type": "code",
   "execution_count": 100,
   "id": "a2d41de2",
   "metadata": {},
   "outputs": [
    {
     "name": "stdout",
     "output_type": "stream",
     "text": [
      "300\n"
     ]
    }
   ],
   "source": [
    "grand = dgb.reshape(1,24)\n",
    "s = 0\n",
    "for e in grand[0]:\n",
    "    s+= e\n",
    "print(s)"
   ]
  },
  {
   "cell_type": "code",
   "execution_count": 93,
   "id": "b8cbac1e",
   "metadata": {},
   "outputs": [
    {
     "data": {
      "text/plain": [
       "array([[ 1,  2,  3,  4],\n",
       "       [ 5,  6,  8,  7],\n",
       "       [ 9, 10, 11, 12],\n",
       "       [ 1,  2,  3,  4],\n",
       "       [ 5,  6,  8,  7],\n",
       "       [ 9, 10, 33, 12]])"
      ]
     },
     "execution_count": 93,
     "metadata": {},
     "output_type": "execute_result"
    }
   ],
   "source": [
    "drad = np.concatenate((arr,void))\n",
    "dred = np.stack((arr,void))\n",
    "drad "
   ]
  },
  {
   "cell_type": "code",
   "execution_count": 99,
   "id": "40d3980c",
   "metadata": {},
   "outputs": [
    {
     "data": {
      "text/plain": [
       "array([[ 1,  2,  3,  4],\n",
       "       [ 5,  6,  8,  7],\n",
       "       [ 9, 10, 11, 12],\n",
       "       [ 1,  2,  3,  4],\n",
       "       [ 5,  6,  8,  7],\n",
       "       [ 9, 10, 33, 12]])"
      ]
     },
     "execution_count": 99,
     "metadata": {},
     "output_type": "execute_result"
    }
   ],
   "source": [
    "flop = np.array([[[1,2],[3,4],[5,6]],[[7,8],[9,10],[11,12]]])"
   ]
  },
  {
   "cell_type": "code",
   "execution_count": 151,
   "id": "6a5f1500",
   "metadata": {},
   "outputs": [
    {
     "data": {
      "text/plain": [
       "[array(['Border Collie'], dtype=object),\n",
       " array(['Poodle'], dtype=object),\n",
       " array(['German Shepherd'], dtype=object),\n",
       " array(['Golden Retriever'], dtype=object),\n",
       " array(['Doberman Pinscher'], dtype=object),\n",
       " array(['Shetland Sheepdog'], dtype=object),\n",
       " array(['Labrador Retriever'], dtype=object),\n",
       " array(['Papillon'], dtype=object),\n",
       " array(['Rottweiler'], dtype=object),\n",
       " array(['Australian Cattle Dog'], dtype=object),\n",
       " array(['Pembroke Welsh Corgi'], dtype=object),\n",
       " array(['Miniature Schnauzer'], dtype=object),\n",
       " array(['English Springer Spaniel'], dtype=object),\n",
       " array(['Belgian Shepherd Dog (Tervuren)'], dtype=object),\n",
       " array(['Schipperke'], dtype=object),\n",
       " array(['Belgian Sheepdog'], dtype=object),\n",
       " array(['Collie'], dtype=object),\n",
       " array(['Keeshond'], dtype=object),\n",
       " array(['German Shorthaired Pointer'], dtype=object),\n",
       " array(['Flat-Coated Retriever'], dtype=object),\n",
       " array(['English Cocker Spaniel'], dtype=object),\n",
       " array(['Standard Schnauzer'], dtype=object),\n",
       " array(['Brittany'], dtype=object),\n",
       " array(['Cocker Spaniel'], dtype=object),\n",
       " array(['Weimaraner'], dtype=object),\n",
       " array(['Belgian Malinois'], dtype=object),\n",
       " array(['Bernese Mountain Dog'], dtype=object),\n",
       " array(['Pomeranian'], dtype=object),\n",
       " array(['Irish Water Spaniel'], dtype=object),\n",
       " array(['Vizsla'], dtype=object),\n",
       " array(['Cardigan Welsh Corgi'], dtype=object),\n",
       " array(['Chesapeake Bay Retriever'], dtype=object),\n",
       " array(['Puli'], dtype=object),\n",
       " array(['Yorkshire Terrier'], dtype=object),\n",
       " array(['Giant Schnauzer'], dtype=object),\n",
       " array(['Portuguese Water Dog'], dtype=object),\n",
       " array(['Airedale Terrier'], dtype=object),\n",
       " array(['Bouvier des Flandres'], dtype=object),\n",
       " array(['Border Terrier'], dtype=object),\n",
       " array(['Briard'], dtype=object),\n",
       " array(['Welsh Springer Spaniel'], dtype=object),\n",
       " array(['Manchester Terrier'], dtype=object),\n",
       " array(['Samoyed'], dtype=object),\n",
       " array(['Field Spaniel'], dtype=object),\n",
       " array(['Newfoundland'], dtype=object),\n",
       " array(['Australian Terrier'], dtype=object),\n",
       " array(['American Staffordshire Terrier'], dtype=object),\n",
       " array(['Gordon Setter'], dtype=object),\n",
       " array(['Bearded Collie'], dtype=object),\n",
       " array(['Cairn Terrier'], dtype=object),\n",
       " array(['Kerry Blue Terrier'], dtype=object),\n",
       " array(['Irish Setter'], dtype=object),\n",
       " array(['Norwegian Elkhound'], dtype=object),\n",
       " array(['Affenpinscher'], dtype=object),\n",
       " array(['Australian Silky Terrier'], dtype=object),\n",
       " array(['Miniature Pinscher'], dtype=object),\n",
       " array(['English Setter'], dtype=object),\n",
       " array(['Pharaoh Hound'], dtype=object),\n",
       " array(['Clumber Spaniel'], dtype=object),\n",
       " array(['Norwich Terrier'], dtype=object),\n",
       " array(['Dalmatian'], dtype=object)]"
      ]
     },
     "execution_count": 151,
     "metadata": {},
     "output_type": "execute_result"
    }
   ],
   "source": [
    "import pandas as pd \n",
    "data = pd.read_csv('dog_intelligence.csv',header=None)\n",
    "data = data[1:]\n",
    "smart_dogs = []\n",
    "for d in data.values[:-11]:\n",
    "    if float(d[3][:-1]) > 50:\n",
    "        smart_dogs.append(d[1:2])\n",
    "smart_dogs\n"
   ]
  },
  {
   "cell_type": "code",
   "execution_count": 137,
   "id": "11fb4776",
   "metadata": {},
   "outputs": [
    {
     "data": {
      "text/plain": [
       "array(['0', 'Border Collie', 'Brightest Dogs', '95%', '1', '4'],\n",
       "      dtype=object)"
      ]
     },
     "execution_count": 137,
     "metadata": {},
     "output_type": "execute_result"
    }
   ],
   "source": [
    "data.values[0]"
   ]
  }
 ],
 "metadata": {
  "kernelspec": {
   "display_name": "Python 3 (ipykernel)",
   "language": "python",
   "name": "python3"
  },
  "language_info": {
   "codemirror_mode": {
    "name": "ipython",
    "version": 3
   },
   "file_extension": ".py",
   "mimetype": "text/x-python",
   "name": "python",
   "nbconvert_exporter": "python",
   "pygments_lexer": "ipython3",
   "version": "3.9.13"
  }
 },
 "nbformat": 4,
 "nbformat_minor": 5
}
